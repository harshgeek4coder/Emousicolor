{
 "cells": [
  {
   "cell_type": "code",
   "execution_count": 1,
   "metadata": {},
   "outputs": [],
   "source": [
    "import tensorflow as tf"
   ]
  },
  {
   "cell_type": "code",
   "execution_count": null,
   "metadata": {},
   "outputs": [],
   "source": []
  },
  {
   "cell_type": "code",
   "execution_count": 6,
   "metadata": {},
   "outputs": [
    {
     "name": "stdout",
     "output_type": "stream",
     "text": [
      "Enter the emotion : ANGRY\n"
     ]
    },
    {
     "name": "stderr",
     "output_type": "stream",
     "text": [
      "<ipython-input-6-72cb8e768b10>:18: DeprecationWarning: use options instead of chrome_options\n",
      "  driver = webdriver.Chrome(r\"C:\\Users\\Harsh\\Downloads\\chromedriver_win32 (1)\\chromedriver.exe\",chrome_options=chrome_options)\n"
     ]
    },
    {
     "ename": "TimeoutException",
     "evalue": "Message: \n",
     "output_type": "error",
     "traceback": [
      "\u001b[1;31m---------------------------------------------------------------------------\u001b[0m",
      "\u001b[1;31mTimeoutException\u001b[0m                          Traceback (most recent call last)",
      "\u001b[1;32m<ipython-input-6-72cb8e768b10>\u001b[0m in \u001b[0;36m<module>\u001b[1;34m\u001b[0m\n\u001b[0;32m     23\u001b[0m        \u001b[0mdriver\u001b[0m\u001b[1;33m.\u001b[0m\u001b[0mfind_element_by_css_selector\u001b[0m\u001b[1;33m(\u001b[0m\u001b[1;34m\"button.style-scope.ytd-searchbox#search-icon-legacy\"\u001b[0m\u001b[1;33m)\u001b[0m\u001b[1;33m.\u001b[0m\u001b[0mclick\u001b[0m\u001b[1;33m(\u001b[0m\u001b[1;33m)\u001b[0m\u001b[1;33m\u001b[0m\u001b[1;33m\u001b[0m\u001b[0m\n\u001b[0;32m     24\u001b[0m        \u001b[0mWebDriverWait\u001b[0m\u001b[1;33m(\u001b[0m\u001b[0mdriver\u001b[0m\u001b[1;33m,\u001b[0m \u001b[1;36m10\u001b[0m\u001b[1;33m)\u001b[0m\u001b[1;33m.\u001b[0m\u001b[0muntil\u001b[0m\u001b[1;33m(\u001b[0m\u001b[0mEC\u001b[0m\u001b[1;33m.\u001b[0m\u001b[0melement_to_be_clickable\u001b[0m\u001b[1;33m(\u001b[0m\u001b[1;33m(\u001b[0m\u001b[0mBy\u001b[0m\u001b[1;33m.\u001b[0m\u001b[0mCSS_SELECTOR\u001b[0m\u001b[1;33m,\u001b[0m \u001b[1;34m\"h3.title-and-badge.style-scope.ytd-video-renderer a\"\u001b[0m\u001b[1;33m)\u001b[0m\u001b[1;33m)\u001b[0m\u001b[1;33m)\u001b[0m\u001b[1;33m.\u001b[0m\u001b[0mclick\u001b[0m\u001b[1;33m(\u001b[0m\u001b[1;33m)\u001b[0m\u001b[1;33m\u001b[0m\u001b[1;33m\u001b[0m\u001b[0m\n\u001b[1;32m---> 25\u001b[1;33m        \u001b[0mWebDriverWait\u001b[0m\u001b[1;33m(\u001b[0m\u001b[0mdriver\u001b[0m\u001b[1;33m,\u001b[0m \u001b[1;36m10\u001b[0m\u001b[1;33m)\u001b[0m\u001b[1;33m.\u001b[0m\u001b[0muntil\u001b[0m\u001b[1;33m(\u001b[0m\u001b[0mEC\u001b[0m\u001b[1;33m.\u001b[0m\u001b[0mtitle_contains\u001b[0m\u001b[1;33m(\u001b[0m\u001b[0mj\u001b[0m\u001b[1;33m)\u001b[0m\u001b[1;33m)\u001b[0m\u001b[1;33m\u001b[0m\u001b[1;33m\u001b[0m\u001b[0m\n\u001b[0m\u001b[0;32m     26\u001b[0m        \u001b[0mprint\u001b[0m\u001b[1;33m(\u001b[0m\u001b[0mdriver\u001b[0m\u001b[1;33m.\u001b[0m\u001b[0mcurrent_url\u001b[0m\u001b[1;33m)\u001b[0m\u001b[1;33m\u001b[0m\u001b[1;33m\u001b[0m\u001b[0m\n\u001b[0;32m     27\u001b[0m        \u001b[0mdriver\u001b[0m\u001b[1;33m.\u001b[0m\u001b[0mquit\u001b[0m\u001b[1;33m(\u001b[0m\u001b[1;33m)\u001b[0m\u001b[1;33m\u001b[0m\u001b[1;33m\u001b[0m\u001b[0m\n",
      "\u001b[1;32mc:\\users\\harsh\\anaconda3\\envs\\py38\\lib\\site-packages\\selenium\\webdriver\\support\\wait.py\u001b[0m in \u001b[0;36muntil\u001b[1;34m(self, method, message)\u001b[0m\n\u001b[0;32m     78\u001b[0m             \u001b[1;32mif\u001b[0m \u001b[0mtime\u001b[0m\u001b[1;33m.\u001b[0m\u001b[0mtime\u001b[0m\u001b[1;33m(\u001b[0m\u001b[1;33m)\u001b[0m \u001b[1;33m>\u001b[0m \u001b[0mend_time\u001b[0m\u001b[1;33m:\u001b[0m\u001b[1;33m\u001b[0m\u001b[1;33m\u001b[0m\u001b[0m\n\u001b[0;32m     79\u001b[0m                 \u001b[1;32mbreak\u001b[0m\u001b[1;33m\u001b[0m\u001b[1;33m\u001b[0m\u001b[0m\n\u001b[1;32m---> 80\u001b[1;33m         \u001b[1;32mraise\u001b[0m \u001b[0mTimeoutException\u001b[0m\u001b[1;33m(\u001b[0m\u001b[0mmessage\u001b[0m\u001b[1;33m,\u001b[0m \u001b[0mscreen\u001b[0m\u001b[1;33m,\u001b[0m \u001b[0mstacktrace\u001b[0m\u001b[1;33m)\u001b[0m\u001b[1;33m\u001b[0m\u001b[1;33m\u001b[0m\u001b[0m\n\u001b[0m\u001b[0;32m     81\u001b[0m \u001b[1;33m\u001b[0m\u001b[0m\n\u001b[0;32m     82\u001b[0m     \u001b[1;32mdef\u001b[0m \u001b[0muntil_not\u001b[0m\u001b[1;33m(\u001b[0m\u001b[0mself\u001b[0m\u001b[1;33m,\u001b[0m \u001b[0mmethod\u001b[0m\u001b[1;33m,\u001b[0m \u001b[0mmessage\u001b[0m\u001b[1;33m=\u001b[0m\u001b[1;34m''\u001b[0m\u001b[1;33m)\u001b[0m\u001b[1;33m:\u001b[0m\u001b[1;33m\u001b[0m\u001b[1;33m\u001b[0m\u001b[0m\n",
      "\u001b[1;31mTimeoutException\u001b[0m: Message: \n"
     ]
    }
   ],
   "source": [
    "from selenium import webdriver\n",
    "from selenium.webdriver.common.by import By\n",
    "from selenium.webdriver.support.ui import WebDriverWait\n",
    "from selenium.webdriver.support import expected_conditions as EC\n",
    "\n",
    "\n",
    "#driver = webdriver.Chrome(r\"C:\\Users\\Harsh\\Downloads\\chromedriver_win32 (1)\\chromedriver.exe\") \n",
    "emotion=str(input(\"Enter the emotion : \"))\n",
    "\n",
    "\n",
    "if emotion == \"ANGRY\":\n",
    "    wrds = [\"Maroon 5 - Memories\", \"The Weeknd - Blinding Lights\", \"Lloyd P White - Burst Part 2\"]\n",
    "    kwrd = [\"maroon\", \"weeknd\", \"lloyd\"]\n",
    "    chrome_options = webdriver.ChromeOptions()\n",
    "    chrome_options.add_argument('--headless')\n",
    "    chrome_options.add_argument('--no-sandbox')\n",
    "    chrome_options.add_argument('--disable-dev-shm-usage')\n",
    "    driver = webdriver.Chrome(r\"C:\\Users\\Harsh\\Downloads\\chromedriver_win32 (1)\\chromedriver.exe\",chrome_options=chrome_options)\n",
    "\n",
    "    for i, j in zip(wrds, kwrd):\n",
    "       driver.get(\"https://www.youtube.com/\")\n",
    "       WebDriverWait(driver, 10).until(EC.element_to_be_clickable((By.CSS_SELECTOR, \"input#search\"))).send_keys(i)\n",
    "       driver.find_element_by_css_selector(\"button.style-scope.ytd-searchbox#search-icon-legacy\").click()\n",
    "       WebDriverWait(driver, 10).until(EC.element_to_be_clickable((By.CSS_SELECTOR, \"h3.title-and-badge.style-scope.ytd-video-renderer a\"))).click()\n",
    "       WebDriverWait(driver, 10).until(EC.title_contains(j))\n",
    "       print(driver.current_url)\n",
    "       driver.quit()\n",
    "\n"
   ]
  },
  {
   "cell_type": "code",
   "execution_count": null,
   "metadata": {},
   "outputs": [],
   "source": [
    "from selenium import webdriver \n",
    "import pandas as pd \n",
    "from selenium.webdriver.common.by import By \n",
    "from selenium.webdriver.support.ui import WebDriverWait \n",
    "from selenium.webdriver.support import expected_conditions as EC\n",
    "\n"
   ]
  },
  {
   "cell_type": "code",
   "execution_count": 25,
   "metadata": {},
   "outputs": [
    {
     "name": "stdout",
     "output_type": "stream",
     "text": [
      "sad\n",
      "['XXXTENTACION - SAD!', 'XXXTENTACION - SAD! (Official Music Video)', 'Best heart broken songs || sad songs', 'Top Heart Broken Hindi Sad Songs 💔 New Bollywood Romantic Love Songs 2020 💔 Hindi Sad Songs 2020']\n"
     ]
    }
   ],
   "source": [
    "from selenium import webdriver\n",
    "from selenium.webdriver.support.ui import WebDriverWait\n",
    "from selenium.webdriver.common.by import By\n",
    "from selenium.webdriver.support import expected_conditions as EC\n",
    "\n",
    "options = webdriver.ChromeOptions() \n",
    "options.add_argument(\"start-maximized\")\n",
    "options.add_experimental_option(\"excludeSwitches\", [\"enable-automation\"])\n",
    "options.add_experimental_option('useAutomationExtension', False)\n",
    "driver = webdriver.Chrome(options=options, executable_path=r'C:\\Users\\Harsh\\Downloads\\chromedriver_win32 (1)\\chromedriver.exe')\n",
    "baseurl = \"http://youtube.com\"\n",
    "keyword = input()\n",
    "driver.get(f'{baseurl}/search?q={keyword}')\n",
    "print([my_elem.text for my_elem in WebDriverWait(driver, 20).until(EC.visibility_of_all_elements_located((By.XPATH, \"//yt-formatted-string[@class='style-scope ytd-video-renderer' and @aria-label]\")))])\n",
    "driver.quit()"
   ]
  },
  {
   "cell_type": "code",
   "execution_count": 37,
   "metadata": {},
   "outputs": [],
   "source": [
    "from selenium import webdriver\n",
    "from selenium.webdriver.common.by import By\n",
    "from selenium.webdriver.support.ui import WebDriverWait\n",
    "from selenium.webdriver.support import expected_conditions as EC\n",
    "import webbrowser\n",
    "import random\n",
    "\n",
    "\n",
    "def get_music_emo(emo):\n",
    "    list1=[]    \n",
    "    if emo=='HAPPY 😀':\n",
    "        wrds = [\"Vivaldi four seasons\", \"The Beatles twist and shout\", \"50 cent heat\"]\n",
    "        kwrd = [\"Vivaldi\", \"Beatles\", \"50\"]\n",
    "        options = webdriver.ChromeOptions()\n",
    "        options.add_argument(\"start-maximized\")\n",
    "        options.add_argument(\"disable-infobars\")\n",
    "        options.add_argument(\"--disable-extensions\")\n",
    "        driver=webdriver.Chrome(chrome_options=options, executable_path=r'C:\\Users\\Harsh\\Downloads\\chromedriver_win32 (1)\\chromedriver.exe')\n",
    "        for i, j in zip(wrds, kwrd):\n",
    "            driver.get(\"https://www.youtube.com/\")\n",
    "            WebDriverWait(driver, 10).until(EC.element_to_be_clickable((By.CSS_SELECTOR, \"input#search\"))).send_keys(i)\n",
    "            driver.find_element_by_css_selector(\"button.style-scope.ytd-searchbox#search-icon-legacy\").click()\n",
    "            WebDriverWait(driver, 10).until(EC.element_to_be_clickable((By.CSS_SELECTOR, \"h3.title-and-badge.style-scope.ytd-video-renderer a\"))).click()\n",
    "            WebDriverWait(driver, 10).until(EC.title_contains(j))\n",
    "            list1.append(driver.current_url)\n",
    "\n",
    "        driver.quit()\n",
    "        webbrowser.open(random.choice(list1))\n",
    "    elif emo=='SAD 🙁':\n",
    "        wrds = [\"Alec Benjamin - Let Me Down Slowly\", \"Trevor Daniel - Falling \", \"Marshmello ft. Bastille - Happier\"]\n",
    "        kwrd = [\"Slowly\", \"Falling\", \"Happier\"]\n",
    "        options = webdriver.ChromeOptions()\n",
    "        options.add_argument(\"start-maximized\")\n",
    "        options.add_argument(\"disable-infobars\")\n",
    "        options.add_argument(\"--disable-extensions\")\n",
    "        driver=webdriver.Chrome(chrome_options=options, executable_path=r'C:\\Users\\Harsh\\Downloads\\chromedriver_win32 (1)\\chromedriver.exe')\n",
    "        for i, j in zip(wrds, kwrd):\n",
    "            driver.get(\"https://www.youtube.com/\")\n",
    "            WebDriverWait(driver, 10).until(EC.element_to_be_clickable((By.CSS_SELECTOR, \"input#search\"))).send_keys(i)\n",
    "            driver.find_element_by_css_selector(\"button.style-scope.ytd-searchbox#search-icon-legacy\").click()\n",
    "            WebDriverWait(driver, 10).until(EC.element_to_be_clickable((By.CSS_SELECTOR, \"h3.title-and-badge.style-scope.ytd-video-renderer a\"))).click()\n",
    "            WebDriverWait(driver, 10).until(EC.title_contains(j))\n",
    "            list1.append(driver.current_url)\n",
    "\n",
    "        driver.quit()\n",
    "        webbrowser.open(random.choice(list1))  \n",
    "\n",
    "\n",
    "\n",
    "\n",
    "    elif emo=='ANGRY 😡':\n",
    "        wrds = [\"Alec Benjamin - Let Me Down Slowly\", \"Trevor Daniel - Falling \", \"Marshmello ft. Bastille - Happier\"]\n",
    "        kwrd = [\"Slowly\", \"Falling\", \"Happier\"]\n",
    "        options = webdriver.ChromeOptions()\n",
    "        options.add_argument(\"start-maximized\")\n",
    "        options.add_argument(\"disable-infobars\")\n",
    "        options.add_argument(\"--disable-extensions\")\n",
    "        driver=webdriver.Chrome(chrome_options=options, executable_path=r'C:\\Users\\Harsh\\Downloads\\chromedriver_win32 (1)\\chromedriver.exe')\n",
    "        for i, j in zip(wrds, kwrd):\n",
    "            driver.get(\"https://www.youtube.com/\")\n",
    "            WebDriverWait(driver, 10).until(EC.element_to_be_clickable((By.CSS_SELECTOR, \"input#search\"))).send_keys(i)\n",
    "            driver.find_element_by_css_selector(\"button.style-scope.ytd-searchbox#search-icon-legacy\").click()\n",
    "            WebDriverWait(driver, 10).until(EC.element_to_be_clickable((By.CSS_SELECTOR, \"h3.title-and-badge.style-scope.ytd-video-renderer a\"))).click()\n",
    "            WebDriverWait(driver, 10).until(EC.title_contains(j))\n",
    "            list1.append(driver.current_url)\n",
    "\n",
    "        driver.quit()\n",
    "        webbrowser.open(random.choice(list1))  \n",
    "\n",
    "    elif emo=='NEUTRAL 😐':\n",
    "        wrds = [\"Alec Benjamin - Let Me Down Slowly\", \"Trevor Daniel - Falling \", \"Marshmello ft. Bastille - Happier\"]\n",
    "        kwrd = [\"Let Me Down Slowly\", \"Falling\", \"Happier\"]\n",
    "        options = webdriver.ChromeOptions()\n",
    "        options.add_argument(\"start-maximized\")\n",
    "        options.add_argument(\"disable-infobars\")\n",
    "        options.add_argument(\"--disable-extensions\")\n",
    "        driver=webdriver.Chrome(chrome_options=options, executable_path=r'C:\\Users\\Harsh\\Downloads\\chromedriver_win32 (1)\\chromedriver.exe')\n",
    "        for i, j in zip(wrds, kwrd):\n",
    "            driver.get(\"https://www.youtube.com/\")\n",
    "            WebDriverWait(driver, 10).until(EC.element_to_be_clickable((By.CSS_SELECTOR, \"input#search\"))).send_keys(i)\n",
    "            driver.find_element_by_css_selector(\"button.style-scope.ytd-searchbox#search-icon-legacy\").click()\n",
    "            WebDriverWait(driver, 10).until(EC.element_to_be_clickable((By.CSS_SELECTOR, \"h3.title-and-badge.style-scope.ytd-video-renderer a\"))).click()\n",
    "            WebDriverWait(driver, 10).until(EC.title_contains(j))\n",
    "            list1.append(driver.current_url)\n",
    "\n",
    "        driver.quit()\n",
    "        webbrowser.open(random.choice(list1))  \n",
    "    \n"
   ]
  },
  {
   "cell_type": "code",
   "execution_count": 40,
   "metadata": {},
   "outputs": [
    {
     "name": "stderr",
     "output_type": "stream",
     "text": [
      "<ipython-input-37-2a02df3f03b8>:18: DeprecationWarning: use options instead of chrome_options\n",
      "  driver=webdriver.Chrome(chrome_options=options, executable_path=r'C:\\Users\\Harsh\\Downloads\\chromedriver_win32 (1)\\chromedriver.exe')\n"
     ]
    }
   ],
   "source": [
    "get_music_emo('HAPPY 😀')"
   ]
  },
  {
   "cell_type": "code",
   "execution_count": null,
   "metadata": {},
   "outputs": [],
   "source": [
    "import cv2, numpy as np, argparse, time, glob, os, sys, subprocess, pandas, random, Update_Model, math, ctypes, win32con\n",
    "#Define variables and load classifier\n",
    "camnumber = 0\n",
    "video_capture = cv2.VideoCapture()\n",
    "facecascade = cv2.CascadeClassifier(\"haarcascade_frontalface_default.xml\")\n",
    "fishface = cv2.createFisherFaceRecognizer()\n",
    "try:\n",
    "    fishface.load(\"trained_emoclassifier.xml\")\n",
    "except:\n",
    "    print(\"no trained xml file found, please run program with --update flag first\")\n",
    "parser = argparse.ArgumentParser(description=\"Options for the emotion-based music player\")\n",
    "parser.add_argument(\"--update\", help=\"Call to grab new images and update the model accordingly\", action=\"store_true\")\n",
    "parser.add_argument(\"--retrain\", help=\"Call to re-train the the model based on all images in training folders\", action=\"store_true\") #Add --update argument\n",
    "parser.add_argument(\"--wallpaper\", help=\"Call to run the program in wallpaper change mode. Input should be followed by integer for how long each change cycle should last (in seconds)\", type=int) #Add --update argument\n",
    "args = parser.parse_args()\n",
    "facedict = {}\n",
    "actions = {}\n",
    "emotions = [\"angry\", \"happy\", \"sad\", \"neutral\"]\n",
    "df = pandas.read_excel(\"EmotionLinks.xlsx\") #open Excel file\n",
    "actions[\"angry\"] = [x for x in df.angry.dropna()] #We need de dropna() when columns are uneven in length, which creates NaN values at missing places. The OS won't know what to do with these if we try to open them.\n",
    "actions[\"happy\"] = [x for x in df.happy.dropna()]\n",
    "actions[\"sad\"] = [x for x in df.sad.dropna()]\n",
    "actions[\"neutral\"] = [x for x in df.neutral.dropna()]\n",
    "def crop_face(clahe_image, face):\n",
    "    for (x, y, w, h) in face:\n",
    "        faceslice = clahe_image[y:y+h, x:x+w]\n",
    "        faceslice = cv2.resize(faceslice, (350, 350))\n",
    "    facedict[\"face%s\" %(len(facedict)+1)] = faceslice\n",
    "    return faceslice\n",
    "def update_model(emotions):\n",
    "    print(\"Model update mode active\")\n",
    "    check_folders(emotions)\n",
    "    for i in range(0, len(emotions)):\n",
    "        save_face(emotions[i])\n",
    "    print(\"collected images, looking good! Now updating model...\")\n",
    "    Update_Model.update(emotions)\n",
    "    print(\"Done!\")\n",
    "def check_folders(emotions):\n",
    "    for x in emotions:\n",
    "        if os.path.exists(\"dataset\\\\%s\" %x):\n",
    "            pass\n",
    "        else:\n",
    "            os.makedirs(\"dataset\\\\%s\" %x)\n",
    "def save_face(emotion):\n",
    "    print(\"\\n\\nplease look \" + emotion + \". Press enter when you're ready to have your pictures taken\")\n",
    "    raw_input() #Wait until enter is pressed with the raw_input() method\n",
    "    video_capture.open(camnumber)\n",
    "    while len(facedict.keys()) < 16:\n",
    "        detect_face()\n",
    "    video_capture.release()\n",
    "    for x in facedict.keys():\n",
    "        cv2.imwrite(\"dataset\\\\%s\\\\%s.jpg\" %(emotion, len(glob.glob(\"dataset\\\\%s\\\\*\" %emotion))), facedict[x])\n",
    "    facedict.clear()\n",
    "def recognize_emotion():\n",
    "    predictions = []\n",
    "    confidence = []\n",
    "    for x in facedict.keys():\n",
    "        pred, conf = fishface.predict(facedict[x])\n",
    "        cv2.imwrite(\"images\\\\%s.jpg\" %x, facedict[x])\n",
    "        predictions.append(pred)\n",
    "        confidence.append(conf)\n",
    "    recognized_emotion = emotions[max(set(predictions), key=predictions.count)]\n",
    "    print(\"I think you're %s\" %recognized_emotion)\n",
    "    return recognized_emotion\n",
    "def grab_webcamframe():\n",
    "    ret, frame = video_capture.read()\n",
    "    gray = cv2.cvtColor(frame, cv2.COLOR_BGR2GRAY)\n",
    "    clahe = cv2.createCLAHE(clipLimit=2.0, tileGridSize=(8,8))\n",
    "    clahe_image = clahe.apply(gray)\n",
    "    return clahe_image\n",
    "def detect_face():\n",
    "    clahe_image = grab_webcamframe()\n",
    "    face = facecascade.detectMultiScale(clahe_image, scaleFactor=1.1, minNeighbors=15, minSize=(10, 10), flags=cv2.CASCADE_SCALE_IMAGE)\n",
    "    if len(face) == 1:\n",
    "        faceslice = crop_face(clahe_image, face)\n",
    "        return faceslice\n",
    "    else:\n",
    "        print(\"no/multiple faces detected, passing over frame\")\n",
    "def run_detection():\n",
    "    while len(facedict) != 10:\n",
    "        detect_face()\n",
    "    recognized_emotion = recognize_emotion()\n",
    "    return recognized_emotion\n",
    "def wallpaper_timer(seconds):\n",
    "    video_capture.release()\n",
    "    time.sleep(int(seconds))\n",
    "    video_capture.open(camnumber)\n",
    "    facedict.clear()\n",
    "def change_wallpaper(emotion):\n",
    "    files = glob.glob(\"wallpapers\\\\%s\\\\*.bmp\" %emotion)\n",
    "    current_dir = os.getcwd()\n",
    "    random.shuffle(files)\n",
    "    file = \"%s\\%s\" %(current_dir, files[0])\n",
    "    setWallpaperWithCtypes(file)\n",
    "def setWallpaperWithCtypes(path): #Taken from http://www.blog.pythonlibrary.org/2014/10/22/pywin32-how-to-set-desktop-background/\n",
    "    cs = ctypes.c_buffer(path)\n",
    "    ok = ctypes.windll.user32.SystemParametersInfoA(win32con.SPI_SETDESKWALLPAPER, 0, cs, 0)\n",
    "if args.update:\n",
    "    update_model(emotions)\n",
    "elif args.retrain:\n",
    "    Update_Model.update(emotions)\n",
    "elif args.wallpaper:\n",
    "    cycle_time = args.wallpaper\n",
    "    while True:\n",
    "        wallpaper_timer(cycle_time)\n",
    "        recognized_emotion = run_detection()\n",
    "        change_wallpaper(recognized_emotion)\n",
    "else:\n",
    "    video_capture.open(camnumber)\n",
    "    recognized_emotion = run_detection()\n",
    "    actionlist = [x for x in actions[recognized_emotion]] #get list of actions/files for detected emotion\n",
    "    random.shuffle(actionlist) #Randomly shuffle the list"
   ]
  },
  {
   "cell_type": "code",
   "execution_count": 55,
   "metadata": {},
   "outputs": [],
   "source": [
    "import ctypes\n",
    "def change_wp(abspath):    \n",
    "    return ctypes.windll.user32.SystemParametersInfoW(20, 0, r\"abspath\" , 0)"
   ]
  },
  {
   "cell_type": "code",
   "execution_count": 45,
   "metadata": {},
   "outputs": [
    {
     "name": "stdout",
     "output_type": "stream",
     "text": [
      "Collecting py-wallpaper\n",
      "  Downloading py_wallpaper-0.0.1-py3-none-any.whl (3.7 MB)\n",
      "Installing collected packages: py-wallpaper\n",
      "Successfully installed py-wallpaper-0.0.1\n"
     ]
    }
   ],
   "source": [
    "!pip install py-wallpaper"
   ]
  },
  {
   "cell_type": "code",
   "execution_count": 1,
   "metadata": {},
   "outputs": [
    {
     "data": {
      "text/plain": [
       "1"
      ]
     },
     "execution_count": 1,
     "metadata": {},
     "output_type": "execute_result"
    }
   ],
   "source": [
    "import os\n",
    "happy_path=r'C:\\Users\\Harsh\\Desktop\\Colours\\HAPPY\\sam1.png'\n",
    "import ctypes\n",
    "def change_wp(abspath):    \n",
    "    return ctypes.windll.user32.SystemParametersInfoW(20, 0, r\"abspath\" , 0)\n",
    "change_wp(happy_path)"
   ]
  },
  {
   "cell_type": "code",
   "execution_count": null,
   "metadata": {},
   "outputs": [],
   "source": [
    "import win32api, win32con, win32gui, random, time\n",
    "\n",
    "def SetWallPaper(path):\n",
    "    key = win32api.RegOpenKeyEx(win32con.HKEY_CURRENT_USER,\n",
    "                                \"Control Panel\\\\\\\\Desktop\",\n",
    "                                0,win32con.KEY_SET_VALUE)\n",
    "    win32api.RegSetValueEx(key, \"WallpaperStyle\", 0, win32con.REG_SZ, \"0\")\n",
    "    win32api.RegSetValueEx(key, \"TileWallpaper\", 0, win32con.REG_SZ, \"0\")\n",
    "    win32gui.SystemParametersInfo(win32con.SPI_SETDESKWALLPAPER, path, 1+2)\n",
    "\n",
    "path = r\"D:\\[Working]Test Mod Obj Det\\Wallpapers\\anthony-tuil-lS_eDob6DDg-unsplash.jpg\"\n",
    "SetWallPaper(path)"
   ]
  },
  {
   "cell_type": "code",
   "execution_count": 10,
   "metadata": {},
   "outputs": [
    {
     "name": "stdout",
     "output_type": "stream",
     "text": [
      "D:\\[Working]Test Mod Obj Det\\Wallpapers\\1.jpg\n",
      "D:\\[Working]Test Mod Obj Det\\Wallpapers\\2.jpg\n",
      "D:\\[Working]Test Mod Obj Det\\Wallpapers\\3.jpg\n",
      "D:\\[Working]Test Mod Obj Det\\Wallpapers\\4.jpg\n",
      "D:\\[Working]Test Mod Obj Det\\Wallpapers\\5.jpg\n",
      "D:\\[Working]Test Mod Obj Det\\Wallpapers\\6.jpg\n",
      "D:\\[Working]Test Mod Obj Det\\Wallpapers\\7.jpg\n",
      "D:\\[Working]Test Mod Obj Det\\Wallpapers\\8.jpg\n",
      "D:\\[Working]Test Mod Obj Det\\Wallpapers\\9.jpg\n"
     ]
    }
   ],
   "source": [
    "import os\n",
    "path=r\"D:\\[Working]Test Mod Obj Det\\Wallpapers\"\n",
    "wallpapers=[\"1.jpg\",\"2.jpg\",\"3.jpg\",\"4.jpg\",\"5.jpg\",\"6.jpg\",\"7.jpg\",\"8.jpg\",\"9.jpg\"]\n",
    "\n",
    "for i in range(0,len(wallpapers)):\n",
    "    print(os.path.join(path,wallpapers[i]))"
   ]
  },
  {
   "cell_type": "code",
   "execution_count": 34,
   "metadata": {},
   "outputs": [
    {
     "name": "stdout",
     "output_type": "stream",
     "text": [
      "D:\\[Working]Test Mod Obj Det\\Wallpapers\\Happy & Neutral\\yellow.png\n",
      "\n",
      "Wallpaper Changed\n"
     ]
    }
   ],
   "source": [
    "\n",
    "\n",
    "import time \n",
    "import os\n",
    "path=r\"D:\\[Working]Test Mod Obj Det\\Wallpapers\\Happy & Neutral\"\n",
    "happy=[\"green.png\",\"pink.png\",\"yellow.png\"]\n",
    "sad=[\"blue.png\",\"purple.png\",\"grey.png\"]\n",
    "\n",
    "hp=r\"\\Happy & Neutral\"\n",
    "\n",
    "fp=os.path.join(path,happy[i])\n",
    "sad_path=os.path.join(path,sad[2])\n",
    "# define the countdown func. \n",
    "\n",
    "def wall_countdown(t): \n",
    "    \n",
    "    while t: \n",
    "        mins, secs = divmod(t, 60) \n",
    "        \n",
    "        timer = '{:02d}:{:02d}'.format(mins, secs) \n",
    "       \n",
    "        print(\"Wallpaper Will Change In : \",timer, end=\"\\r\") \n",
    "        \n",
    "        time.sleep(1) \n",
    "       \n",
    "        t -= 1\n",
    "        \n",
    "\n",
    "    SetWallPaper(fp) \n",
    "    time.sleep(5)\n",
    "    SetWallPaper(fp)\n",
    "    \n",
    "    print(fp)\n",
    "    print('\\nWallpaper Changed') \n",
    "  \n",
    "  \n",
    "\n",
    "wall_countdown(int(5)) "
   ]
  },
  {
   "cell_type": "code",
   "execution_count": null,
   "metadata": {},
   "outputs": [],
   "source": []
  },
  {
   "cell_type": "code",
   "execution_count": null,
   "metadata": {},
   "outputs": [],
   "source": []
  },
  {
   "cell_type": "code",
   "execution_count": null,
   "metadata": {},
   "outputs": [],
   "source": []
  },
  {
   "cell_type": "code",
   "execution_count": 56,
   "metadata": {},
   "outputs": [],
   "source": [
    "import time \n",
    "import os\n",
    "\n",
    "import win32api\n",
    "import win32gui\n",
    "import win32con\n",
    "\n",
    "h_path=r\"D:\\[Working]Test Mod Obj Det\\Wallpapers\\Happy & Neutral\"\n",
    "s_path=r\"D:\\[Working]Test Mod Obj Det\\Wallpapers\\Sad & Angry\"\n",
    "colours=[\"1.jpg\",\"2.jpg\",\"3.jpg\"]\n",
    "happy=[\"green.jpg\",\"pink.jpg\",\"yellow.jpg\"]\n",
    "sad=[\"blue.jpg\",\"purple.jpg\",\"grey.jpg\"]\n",
    "hp=r\"\\Happy & Neutral\"\n",
    "sp=r\"\\Sad & Angry\"\n",
    "\n",
    "def wallpaper(path):\n",
    "    key = win32api.RegOpenKeyEx(win32con.HKEY_CURRENT_USER,\"Control Panel\\\\Desktop\",0,win32con.KEY_SET_VALUE)\n",
    "    win32api.RegSetValueEx(key, \"WallpaperStyle\", 0, win32con.REG_SZ, \"0\")\n",
    "    win32api.RegSetValueEx(key, \"TileWallpaper\", 0, win32con.REG_SZ, \"0\")\n",
    "    win32gui.SystemParametersInfo(win32con.SPI_SETDESKWALLPAPER, path, 1+2)\n",
    "\n",
    "\n",
    "    \n",
    "    \n",
    "    \n",
    "\n",
    "def emo_wall(emotion):\n",
    "    while emotion:\n",
    "        for i in range(0,3):\n",
    "            time.sleep(5)\n",
    "            if emotion==\"HAPPY\":\n",
    "                fp=os.path.join(h_path,happy[i])\n",
    "            elif emotion==\"SAD\":\n",
    "                fp=os.path.join(s_path,sad[i])\n",
    "            print(fp)\n",
    "            wallpaper(fp)\n",
    "\n"
   ]
  },
  {
   "cell_type": "code",
   "execution_count": 57,
   "metadata": {},
   "outputs": [
    {
     "name": "stdout",
     "output_type": "stream",
     "text": [
      "D:\\[Working]Test Mod Obj Det\\Wallpapers\\Sad & Angry\\blue.jpg\n",
      "D:\\[Working]Test Mod Obj Det\\Wallpapers\\Sad & Angry\\purple.jpg\n",
      "D:\\[Working]Test Mod Obj Det\\Wallpapers\\Sad & Angry\\grey.jpg\n",
      "D:\\[Working]Test Mod Obj Det\\Wallpapers\\Sad & Angry\\blue.jpg\n",
      "D:\\[Working]Test Mod Obj Det\\Wallpapers\\Sad & Angry\\purple.jpg\n",
      "D:\\[Working]Test Mod Obj Det\\Wallpapers\\Sad & Angry\\grey.jpg\n"
     ]
    },
    {
     "ename": "KeyboardInterrupt",
     "evalue": "",
     "output_type": "error",
     "traceback": [
      "\u001b[1;31m---------------------------------------------------------------------------\u001b[0m",
      "\u001b[1;31mKeyboardInterrupt\u001b[0m                         Traceback (most recent call last)",
      "\u001b[1;32m<ipython-input-57-153cb4a7695c>\u001b[0m in \u001b[0;36m<module>\u001b[1;34m\u001b[0m\n\u001b[1;32m----> 1\u001b[1;33m \u001b[0memo_wall\u001b[0m\u001b[1;33m(\u001b[0m\u001b[1;34m\"SAD\"\u001b[0m\u001b[1;33m)\u001b[0m\u001b[1;33m\u001b[0m\u001b[1;33m\u001b[0m\u001b[0m\n\u001b[0m",
      "\u001b[1;32m<ipython-input-56-505548ac7046>\u001b[0m in \u001b[0;36memo_wall\u001b[1;34m(emotion)\u001b[0m\n\u001b[0;32m     28\u001b[0m     \u001b[1;32mwhile\u001b[0m \u001b[0memotion\u001b[0m\u001b[1;33m:\u001b[0m\u001b[1;33m\u001b[0m\u001b[1;33m\u001b[0m\u001b[0m\n\u001b[0;32m     29\u001b[0m         \u001b[1;32mfor\u001b[0m \u001b[0mi\u001b[0m \u001b[1;32min\u001b[0m \u001b[0mrange\u001b[0m\u001b[1;33m(\u001b[0m\u001b[1;36m0\u001b[0m\u001b[1;33m,\u001b[0m\u001b[1;36m3\u001b[0m\u001b[1;33m)\u001b[0m\u001b[1;33m:\u001b[0m\u001b[1;33m\u001b[0m\u001b[1;33m\u001b[0m\u001b[0m\n\u001b[1;32m---> 30\u001b[1;33m             \u001b[0mtime\u001b[0m\u001b[1;33m.\u001b[0m\u001b[0msleep\u001b[0m\u001b[1;33m(\u001b[0m\u001b[1;36m5\u001b[0m\u001b[1;33m)\u001b[0m\u001b[1;33m\u001b[0m\u001b[1;33m\u001b[0m\u001b[0m\n\u001b[0m\u001b[0;32m     31\u001b[0m             \u001b[1;32mif\u001b[0m \u001b[0memotion\u001b[0m\u001b[1;33m==\u001b[0m\u001b[1;34m\"HAPPY\"\u001b[0m\u001b[1;33m:\u001b[0m\u001b[1;33m\u001b[0m\u001b[1;33m\u001b[0m\u001b[0m\n\u001b[0;32m     32\u001b[0m                 \u001b[0mfp\u001b[0m\u001b[1;33m=\u001b[0m\u001b[0mos\u001b[0m\u001b[1;33m.\u001b[0m\u001b[0mpath\u001b[0m\u001b[1;33m.\u001b[0m\u001b[0mjoin\u001b[0m\u001b[1;33m(\u001b[0m\u001b[0mh_path\u001b[0m\u001b[1;33m,\u001b[0m\u001b[0mhappy\u001b[0m\u001b[1;33m[\u001b[0m\u001b[0mi\u001b[0m\u001b[1;33m]\u001b[0m\u001b[1;33m)\u001b[0m\u001b[1;33m\u001b[0m\u001b[1;33m\u001b[0m\u001b[0m\n",
      "\u001b[1;31mKeyboardInterrupt\u001b[0m: "
     ]
    }
   ],
   "source": [
    "emo_wall(\"SAD\")"
   ]
  },
  {
   "cell_type": "code",
   "execution_count": 54,
   "metadata": {},
   "outputs": [
    {
     "name": "stdout",
     "output_type": "stream",
     "text": [
      "D:\\[Working]Test Mod Obj Det\\Wallpapers\\Happy & Neutral\\green.jpg\n",
      "D:\\[Working]Test Mod Obj Det\\Wallpapers\\Happy & Neutral\\pink.jpg\n",
      "D:\\[Working]Test Mod Obj Det\\Wallpapers\\Happy & Neutral\\yellow.jpg\n"
     ]
    }
   ],
   "source": [
    "emo_wall(\"HAPPY\")"
   ]
  },
  {
   "cell_type": "code",
   "execution_count": null,
   "metadata": {},
   "outputs": [],
   "source": []
  }
 ],
 "metadata": {
  "kernelspec": {
   "display_name": "Python 3",
   "language": "python",
   "name": "python3"
  },
  "language_info": {
   "codemirror_mode": {
    "name": "ipython",
    "version": 3
   },
   "file_extension": ".py",
   "mimetype": "text/x-python",
   "name": "python",
   "nbconvert_exporter": "python",
   "pygments_lexer": "ipython3",
   "version": "3.8.5"
  }
 },
 "nbformat": 4,
 "nbformat_minor": 4
}
